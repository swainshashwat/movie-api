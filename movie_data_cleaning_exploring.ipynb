{
 "cells": [
  {
   "cell_type": "code",
   "execution_count": 1,
   "id": "1fc2d286",
   "metadata": {},
   "outputs": [],
   "source": [
    "import pandas as pd\n",
    "import os\n",
    "import json\n",
    "import re\n",
    "from tqdm import tqdm # to show progress bar in for loops\n",
    "\n",
    "# to increase display width of dataframes in jupyter notebook\n",
    "pd.set_option('display.max_rows',1000)\n",
    "pd.set_option('display.max_columns',1000)"
   ]
  },
  {
   "cell_type": "code",
   "execution_count": 2,
   "id": "3015f9e6",
   "metadata": {},
   "outputs": [],
   "source": [
    "root = \"movie_dataset/\""
   ]
  },
  {
   "cell_type": "code",
   "execution_count": 3,
   "id": "a828e274",
   "metadata": {},
   "outputs": [
    {
     "data": {
      "text/plain": [
       "['credits.csv',\n",
       " 'keywords.csv',\n",
       " 'links.csv',\n",
       " 'links_small.csv',\n",
       " 'movies_metadata.csv',\n",
       " 'ratings.csv',\n",
       " 'ratings_small.csv']"
      ]
     },
     "execution_count": 3,
     "metadata": {},
     "output_type": "execute_result"
    }
   ],
   "source": [
    "os.listdir(root)"
   ]
  },
  {
   "cell_type": "markdown",
   "id": "865dfc2c",
   "metadata": {},
   "source": [
    "## credits.csv"
   ]
  },
  {
   "cell_type": "code",
   "execution_count": 33,
   "id": "12a6bc6f",
   "metadata": {},
   "outputs": [],
   "source": [
    "credits = pd.read_csv(root+'credits.csv')"
   ]
  },
  {
   "cell_type": "code",
   "execution_count": 5,
   "id": "19e28680",
   "metadata": {},
   "outputs": [
    {
     "data": {
      "text/html": [
       "<div>\n",
       "<style scoped>\n",
       "    .dataframe tbody tr th:only-of-type {\n",
       "        vertical-align: middle;\n",
       "    }\n",
       "\n",
       "    .dataframe tbody tr th {\n",
       "        vertical-align: top;\n",
       "    }\n",
       "\n",
       "    .dataframe thead th {\n",
       "        text-align: right;\n",
       "    }\n",
       "</style>\n",
       "<table border=\"1\" class=\"dataframe\">\n",
       "  <thead>\n",
       "    <tr style=\"text-align: right;\">\n",
       "      <th></th>\n",
       "      <th>cast</th>\n",
       "      <th>crew</th>\n",
       "      <th>id</th>\n",
       "    </tr>\n",
       "  </thead>\n",
       "  <tbody>\n",
       "    <tr>\n",
       "      <th>0</th>\n",
       "      <td>[{'cast_id': 14, 'character': 'Woody (voice)',...</td>\n",
       "      <td>[{'credit_id': '52fe4284c3a36847f8024f49', 'de...</td>\n",
       "      <td>862</td>\n",
       "    </tr>\n",
       "    <tr>\n",
       "      <th>1</th>\n",
       "      <td>[{'cast_id': 1, 'character': 'Alan Parrish', '...</td>\n",
       "      <td>[{'credit_id': '52fe44bfc3a36847f80a7cd1', 'de...</td>\n",
       "      <td>8844</td>\n",
       "    </tr>\n",
       "    <tr>\n",
       "      <th>2</th>\n",
       "      <td>[{'cast_id': 2, 'character': 'Max Goldman', 'c...</td>\n",
       "      <td>[{'credit_id': '52fe466a9251416c75077a89', 'de...</td>\n",
       "      <td>15602</td>\n",
       "    </tr>\n",
       "    <tr>\n",
       "      <th>3</th>\n",
       "      <td>[{'cast_id': 1, 'character': \"Savannah 'Vannah...</td>\n",
       "      <td>[{'credit_id': '52fe44779251416c91011acb', 'de...</td>\n",
       "      <td>31357</td>\n",
       "    </tr>\n",
       "    <tr>\n",
       "      <th>4</th>\n",
       "      <td>[{'cast_id': 1, 'character': 'George Banks', '...</td>\n",
       "      <td>[{'credit_id': '52fe44959251416c75039ed7', 'de...</td>\n",
       "      <td>11862</td>\n",
       "    </tr>\n",
       "  </tbody>\n",
       "</table>\n",
       "</div>"
      ],
      "text/plain": [
       "                                                cast  \\\n",
       "0  [{'cast_id': 14, 'character': 'Woody (voice)',...   \n",
       "1  [{'cast_id': 1, 'character': 'Alan Parrish', '...   \n",
       "2  [{'cast_id': 2, 'character': 'Max Goldman', 'c...   \n",
       "3  [{'cast_id': 1, 'character': \"Savannah 'Vannah...   \n",
       "4  [{'cast_id': 1, 'character': 'George Banks', '...   \n",
       "\n",
       "                                                crew     id  \n",
       "0  [{'credit_id': '52fe4284c3a36847f8024f49', 'de...    862  \n",
       "1  [{'credit_id': '52fe44bfc3a36847f80a7cd1', 'de...   8844  \n",
       "2  [{'credit_id': '52fe466a9251416c75077a89', 'de...  15602  \n",
       "3  [{'credit_id': '52fe44779251416c91011acb', 'de...  31357  \n",
       "4  [{'credit_id': '52fe44959251416c75039ed7', 'de...  11862  "
      ]
     },
     "execution_count": 5,
     "metadata": {},
     "output_type": "execute_result"
    }
   ],
   "source": [
    "credits.head()"
   ]
  },
  {
   "cell_type": "code",
   "execution_count": 6,
   "id": "6b2d570c",
   "metadata": {},
   "outputs": [
    {
     "data": {
      "text/plain": [
       "Index(['cast', 'crew', 'id'], dtype='object')"
      ]
     },
     "execution_count": 6,
     "metadata": {},
     "output_type": "execute_result"
    }
   ],
   "source": [
    "credits.shape\n",
    "credits.columns"
   ]
  },
  {
   "cell_type": "code",
   "execution_count": 7,
   "id": "bdd26238",
   "metadata": {},
   "outputs": [],
   "source": [
    "def str_to_json_v2(df, col, row):\n",
    "    regex = r\"\\\"[a-zA-Z_\\\"0-9 ]*( )*:( )*(\\\"[a-zA-Z_\\\"0-9 ]*\\\"|[0-9]+)\"\n",
    "    regex2 = r\":( )*(\\\"[a-zA-Z_\\\"0-9 ]*\\\"|[0-9]+)\"\n",
    "\n",
    "    crew00= df[col][row].replace(\"\\\\\",\"\").replace(\"\\'\",\"\\\"\").replace(\"None\",\"\\\"\\\"\")\n",
    "    crew00 = split_with_delimiter(crew00, '}, ', '}')\n",
    "    crew00[0] = crew00[0][1:]\n",
    "    crew00[-1] = crew00[-1][:-2]\n",
    "\n",
    "    all_files = []\n",
    "    for i in range(len(crew00)):\n",
    "        try:\n",
    "            all_files.append(json.loads(crew00[i]))\n",
    "        except ValueError:\n",
    "            new_string = \"{\"\n",
    "            matches = re.finditer(regex, crew00[i])\n",
    "            for match in matches:\n",
    "                key_val = match.group()\n",
    "                matches2 = re.finditer(regex2, key_val)\n",
    "                for match2 in matches2:\n",
    "                    endposn = match2.start()\n",
    "                    val = match2.group()\n",
    "                    val = val.replace(\":\", \"\").strip()\n",
    "                    if val[0]==\"\\\"\" and val[-1]==\"\\\"\":\n",
    "                        val = val[1:-1].replace(\"\\\"\", \"\\'\")\n",
    "                        val = \" \\\"\" + val + \"\\\"\"\n",
    "                    else:\n",
    "                        val = \" \" + val\n",
    "\n",
    "                    new_string+= key_val[:endposn+1]+val\n",
    "                new_string+=' ,'\n",
    "\n",
    "            new_string = new_string[:-2]\n",
    "            new_string+='}'\n",
    "            all_files.append(json.loads(new_string))\n",
    "    \n",
    "    return all_files\n",
    "\n",
    "def split_with_delimiter(text, delimiter, repl):\n",
    "\n",
    "    text = text.split(delimiter)\n",
    "    text =  [e+repl for e in text if e]\n",
    "    return text\n",
    "\n",
    "def run_csv(df, no_rows=2):\n",
    "    credits_json = []\n",
    "    for x in tqdm(range(2)):\n",
    "        tmp_dict = {}\n",
    "        for y in df.columns:\n",
    "            #print(y)\n",
    "            if y  == 'id':\n",
    "                tmp_dict['id'] = df[y][x]\n",
    "            else:\n",
    "                tmp_dict[y] = str_to_json_v2(df,y,x)\n",
    "\n",
    "        credits_json.append(tmp_dict)\n",
    "    return credits_json\n",
    "\n",
    "def json_to_file(obj, fp='test.json', indent=3):\n",
    "    with open('test.json', 'w') as f:\n",
    "        json.dump(obj, f, default=str, indent=indent)\n",
    "    print('file saved',fp)"
   ]
  },
  {
   "cell_type": "code",
   "execution_count": 8,
   "id": "824b5b8d",
   "metadata": {
    "scrolled": true
   },
   "outputs": [
    {
     "name": "stderr",
     "output_type": "stream",
     "text": [
      "100%|███████████████████████████████████████████████████████████████████████████████████| 2/2 [00:00<00:00, 501.68it/s]\n"
     ]
    }
   ],
   "source": [
    "lol = run_csv(credits)"
   ]
  },
  {
   "cell_type": "code",
   "execution_count": 9,
   "id": "9aad3779",
   "metadata": {},
   "outputs": [
    {
     "name": "stdout",
     "output_type": "stream",
     "text": [
      "file saved test.json\n"
     ]
    }
   ],
   "source": [
    "json_to_file(lol)"
   ]
  },
  {
   "cell_type": "markdown",
   "id": "8b68f3e3",
   "metadata": {},
   "source": [
    "## movies_metadata.csv"
   ]
  },
  {
   "cell_type": "code",
   "execution_count": 245,
   "id": "8e4d91f4",
   "metadata": {},
   "outputs": [],
   "source": [
    "movies_meta = pd.read_csv(root+'movies_metadata.csv')"
   ]
  },
  {
   "cell_type": "markdown",
   "id": "a0387dcd",
   "metadata": {},
   "source": [
    "#### from the above inspection, we can see that we don't have any use for the following columns: video"
   ]
  },
  {
   "cell_type": "code",
   "execution_count": 246,
   "id": "b129afb7",
   "metadata": {},
   "outputs": [],
   "source": [
    "def clean_genres(x):\n",
    "    '''\n",
    "    To show only the clear genre names as a list\n",
    "    '''\n",
    "    if x == \"\":\n",
    "        return x\n",
    "    else:\n",
    "        x = x.replace('\\'', '\\\"').replace('None','\\\"\\\"')\n",
    "        x = json.loads(x)\n",
    "        if type(x) == list:\n",
    "            return [gen[\"name\"] for gen in x]\n",
    "        else:\n",
    "            return x[\"name\"]  "
   ]
  },
  {
   "cell_type": "code",
   "execution_count": 247,
   "id": "acd15acc",
   "metadata": {},
   "outputs": [],
   "source": [
    "#movies_meta['genres'] = movies_meta['genres'].apply(clean_genres)"
   ]
  },
  {
   "cell_type": "code",
   "execution_count": 248,
   "id": "d12ea8bc",
   "metadata": {},
   "outputs": [],
   "source": [
    "def str_to_json_v3(x):\n",
    "    regex = r\"\\\"[a-zA-Z_\\\"\\/.&\\-\\\\(\\)0-9 ]*( )*:( )*(\\\"[a-zA-Z_\\\"\\/.&\\-\\(\\)\\,0-9 ]*(\\\"( )*,|\\\"})|[0-9]+)\"\n",
    "    regex2 = r\":( )*(\\\"[a-zA-Z_\\\"\\/.&\\-\\(\\)\\,0-9 ]*(\\\"( )*,|\\\"})|[0-9]+)\"\n",
    "    try:\n",
    "        return clean_genres(x)\n",
    "    except:\n",
    "        crew00= x.replace(\"\\\\\",\"\").replace(\"\\'\",\"\\\"\").replace(\"None\",\"\\\"\\\"\")\n",
    "\n",
    "        \n",
    "        new_string = \"{\"\n",
    "        matches = re.finditer(regex, crew00)\n",
    "        for match in matches:\n",
    "            key_val = match.group()\n",
    "            matches2 = re.finditer(regex2, key_val)\n",
    "            for match2 in matches2:\n",
    "                endposn = match2.start()\n",
    "                val = match2.group()\n",
    "                val = val.replace(\":\", \"\").strip()\n",
    "                if val[0]==\"\\\"\" and val[-1]==\"\\\"\":\n",
    "                    val = val[1:-1].replace(\"\\\"\", \"\\'\")\n",
    "                    val = \" \\\"\" + val + \"\\\"\"\n",
    "                else:\n",
    "                    val = \" \" + val\n",
    "\n",
    "                new_string+= key_val[:endposn+1]+val\n",
    "            new_string+=' ,'\n",
    "\n",
    "        new_string = new_string[:-2]\n",
    "        new_string = new_string.replace(\", ,\",\",\")\n",
    "        print(new_string)\n",
    "        "
   ]
  },
  {
   "cell_type": "code",
   "execution_count": 249,
   "id": "2dc6d8bb",
   "metadata": {},
   "outputs": [],
   "source": [
    "movies_meta['belongs_to_collection'].fillna(\"\", inplace = True)"
   ]
  },
  {
   "cell_type": "code",
   "execution_count": 250,
   "id": "d28b014a",
   "metadata": {},
   "outputs": [
    {
     "data": {
      "text/plain": [
       "'Toy Story Collection'"
      ]
     },
     "execution_count": 250,
     "metadata": {},
     "output_type": "execute_result"
    }
   ],
   "source": [
    "str_to_json_v3(movies_meta['belongs_to_collection'][0])"
   ]
  },
  {
   "cell_type": "code",
   "execution_count": 251,
   "id": "8092545a",
   "metadata": {},
   "outputs": [
    {
     "name": "stdout",
     "output_type": "stream",
     "text": [
      "{\"id\": 118221 ,\"name\": \"Weekend at Bernie\"s Collection\",\"poster_path\": \"/gJVBXVetIkgVVMbzODQ3dJwvQkV.jpg\",\"backdrop_path\": \"/khVvskKc4VzAHbHtQMhKGeKWDxC.jpg\"}\n",
      "{\"id\": 393564 ,\"name\": \"McHale\"s Navy Collection\",\"poster_path\": \"\",\"backdrop_path\": \"\"}\n",
      "{\"id\": 108693 ,\"name\": \"National Lampoon\"s Vacation Collection\",\"poster_path\": \"/zvEUkLpDO7xlgabBEA9CCc0cvAt.jpg\",\"backdrop_path\": \"/pBmhj6KkEjlzc3e7jAPkIHgGIrE.jpg\"}\n",
      "{\"id\": 10455 ,\"name\": \"Child\"s Play Collection\",\"poster_path\": \"/50aqbDvbOtdlZrje6Qk4ZvKM7dM.jpg\",\"backdrop_path\": \"/AAhYXBVIEl6WgQnzfBsauTIC25.jpg\"}\n",
      "{\"id\": 10455 ,\"name\": \"Child\"s Play Collection\",\"poster_path\": \"/50aqbDvbOtdlZrje6Qk4ZvKM7dM.jpg\",\"backdrop_path\": \"/AAhYXBVIEl6WgQnzfBsauTIC25.jpg\"}\n",
      "{\"id\": 10455 ,\"name\": \"Child\"s Play Collection\",\"poster_path\": \"/50aqbDvbOtdlZrje6Qk4ZvKM7dM.jpg\",\"backdrop_path\": \"/AAhYXBVIEl6WgQnzfBsauTIC25.jpg\"}\n",
      "{\"id\": 263193 ,\"name\": \"Charlotte\"s Web Collection\",\"poster_path\": \"/7sg3elvEwetbPtTbMwr9IuegAtD.jpg\",\"backdrop_path\": \"/1FanC71rFOOJukt95FedjAI5iBk.jpg\"}\n",
      "{\"id\": 264338 ,\"name\": \"Rosemary\"s Baby Collection\",\"poster_path\": \"/yP9DnKsSGcEuHJktQYotND6dsgJ.jpg\",\"backdrop_path\": \"/36RmiFNEbyfTOF3GG17rOyv4XGD.jpg\"}\n",
      "{\"id\": 10455 ,\"name\": \"Child\"s Play Collection\",\"poster_path\": \"/50aqbDvbOtdlZrje6Qk4ZvKM7dM.jpg\",\"backdrop_path\": \"/AAhYXBVIEl6WgQnzfBsauTIC25.jpg\"}\n",
      "{\"id\": 108693 ,\"name\": \"National Lampoon\"s Vacation Collection\",\"poster_path\": \"/zvEUkLpDO7xlgabBEA9CCc0cvAt.jpg\",\"backdrop_path\": \"/pBmhj6KkEjlzc3e7jAPkIHgGIrE.jpg\"}\n",
      "{\"id\": 108693 ,\"name\": \"National Lampoon\"s Vacation Collection\",\"poster_path\": \"/zvEUkLpDO7xlgabBEA9CCc0cvAt.jpg\",\"backdrop_path\": \"/pBmhj6KkEjlzc3e7jAPkIHgGIrE.jpg\"}\n",
      "{\"id\": 108693 ,\"name\": \"National Lampoon\"s Vacation Collection\",\"poster_path\": \"/zvEUkLpDO7xlgabBEA9CCc0cvAt.jpg\",\"backdrop_path\": \"/pBmhj6KkEjlzc3e7jAPkIHgGIrE.jpg\"}\n",
      "{\"id\": 8979 ,\"name\": \"Wayne\"s World Collection\",\"poster_path\": \"/pSzpPW6pYtqJq038okmxBBE5zmN.jpg\",\"backdrop_path\": \"/o0FVB2mVYTIjTuu89tW98QGzZzi.jpg\"}\n",
      "{\"id\": 8979 ,\"name\": \"Wayne\"s World Collection\",\"poster_path\": \"/pSzpPW6pYtqJq038okmxBBE5zmN.jpg\",\"backdrop_path\": \"/o0FVB2mVYTIjTuu89tW98QGzZzi.jpg\"}\n",
      "{\"id\": 179244 ,\"name\": \"Pee-wee\"s Collection\",\"poster_path\": \"/m806SvjQ9b6FPFEzS2ODG6lbXqk.jpg\",\"backdrop_path\": \"/36PCFtfaB4SNHVaeGZbMiMkchaT.jpg\"}\n",
      "{\"id\": 44979 ,\"name\": \"Big Momma\"s House Collection\",\"poster_path\": \"/nudrKU6mwJOMtZIIyr2fKO1NcDt.jpg\",\"backdrop_path\": \"/G6JKl9hOeErWUw6fO7PAfBOzAn.jpg\"}\n",
      "{\"id\": 109592 ,\"name\": \"Porky\"s Collection\",\"poster_path\": \"/fGnfEA244AKrKgcN6uyvEFCgaR6.jpg\",\"backdrop_path\": \"/1Ra6Un73JwIjGHfEU0lM3397Q8z.jpg\"}\n",
      "{\"id\": 109592 ,\"name\": \"Porky\"s Collection\",\"poster_path\": \"/fGnfEA244AKrKgcN6uyvEFCgaR6.jpg\",\"backdrop_path\": \"/1Ra6Un73JwIjGHfEU0lM3397Q8z.jpg\"}\n",
      "{\"id\": 109592 ,\"name\": \"Porky\"s Collection\",\"poster_path\": \"/fGnfEA244AKrKgcN6uyvEFCgaR6.jpg\",\"backdrop_path\": \"/1Ra6Un73JwIjGHfEU0lM3397Q8z.jpg\"}\n",
      "{\"id\": 263866 ,\"name\": \"Nuke \"Em High Collection\",\"poster_path\": \"/eI4x4Sv2C4Et7Be2RCZY7EpNk0H.jpg\",\"backdrop_path\": \"\"}\n",
      "{\"id\": 86029 ,\"name\": \"Charlie\"s Angels Collection\",\"poster_path\": \"/jBKUntSuSUfxTXI8XWABpdWmWEt.jpg\",\"backdrop_path\": \"/syWm5FMScW6JHaCM2C9aduCzUtp.jpg\"}\n",
      "{\"id\": 178117 ,\"name\": \"The Emperor\"s New Groove Collection\",\"poster_path\": \"/gCRRjTXVnLrSQMpWGz1Bgz6Zy5Z.jpg\",\"backdrop_path\": \"/aa0VAu78vDJH9ukK8ORBj1SROfR.jpg\"}\n",
      "{\"id\": 287016 ,\"name\": \"Wong Kar-Wai\"s Informal Collection\",\"poster_path\": \"/fcGKAq9R8fjvXBhVhEds7SRDiWS.jpg\",\"backdrop_path\": \"\"}\n",
      "{\"id\": 179244 ,\"name\": \"Pee-wee\"s Collection\",\"poster_path\": \"/m806SvjQ9b6FPFEzS2ODG6lbXqk.jpg\",\"backdrop_path\": \"/36PCFtfaB4SNHVaeGZbMiMkchaT.jpg\"}\n",
      "{\"id\": 91746 ,\"name\": \"Bill & Ted\"s Most Excellent Collection\",\"poster_path\": \"/e8ytcWY0r32q3RdNJDnv5KRh9hC.jpg\",\"backdrop_path\": \"/m7KWyG7VwXoPbwr3DgeDqed8qU0.jpg\"}\n",
      "{\"id\": 9521 ,\"name\": \"Look Who\"s Talking Collection\",\"poster_path\": \"/ez7hA34uLtOuGIwZvwhlpr53tXh.jpg\",\"backdrop_path\": \"/2jEwMXBICqARNmhFFFDu1IvmJCK.jpg\"}\n",
      "{\"id\": 118221 ,\"name\": \"Weekend at Bernie\"s Collection\",\"poster_path\": \"/gJVBXVetIkgVVMbzODQ3dJwvQkV.jpg\",\"backdrop_path\": \"/khVvskKc4VzAHbHtQMhKGeKWDxC.jpg\"}\n",
      "{\"id\": 304 ,\"name\": \"Ocean\"s Collection\",\"poster_path\": \"/rMWeMGBftk6IxNW5mJVH8ZXAvuq.jpg\",\"backdrop_path\": \"/vxmFb03PyjycekffLqXqFibbCzx.jpg\"}\n",
      "{\"id\": 91746 ,\"name\": \"Bill & Ted\"s Most Excellent Collection\",\"poster_path\": \"/e8ytcWY0r32q3RdNJDnv5KRh9hC.jpg\",\"backdrop_path\": \"/m7KWyG7VwXoPbwr3DgeDqed8qU0.jpg\"}\n",
      "{\"id\": 9521 ,\"name\": \"Look Who\"s Talking Collection\",\"poster_path\": \"/ez7hA34uLtOuGIwZvwhlpr53tXh.jpg\",\"backdrop_path\": \"/2jEwMXBICqARNmhFFFDu1IvmJCK.jpg\"}\n",
      "{\"id\": 148517 ,\"name\": \"Pagnol, Childhood\"s Memories\",\"poster_path\": \"/64doR2voCwZsO6N5S66muH15wNk.jpg\",\"backdrop_path\": \"/ev8QPkAVOtBkGwZID3JAzeEmdHz.jpg\"}\n",
      "{\"id\": 148517 ,\"name\": \"Pagnol, Childhood\"s Memories\",\"poster_path\": \"/64doR2voCwZsO6N5S66muH15wNk.jpg\",\"backdrop_path\": \"/ev8QPkAVOtBkGwZID3JAzeEmdHz.jpg\"}\n",
      "{\"id\": 8385 ,\"poster_path\": \"/ox6eqFVJRMv2eYFrSUepxIddfjL.jpg\",\"backdrop_path\": \"\"}\n",
      "{\"id\": 92222 ,\"name\": \"Breakin\" Collection\",\"poster_path\": \"/vWUzNwn6LmaE6l64rQPTxRF7mI.jpg\",\"backdrop_path\": \"/q5zhNf6vS9NZN5QW9Zx251qrtlt.jpg\"}\n",
      "{\"id\": 92222 ,\"name\": \"Breakin\" Collection\",\"poster_path\": \"/vWUzNwn6LmaE6l64rQPTxRF7mI.jpg\",\"backdrop_path\": \"/q5zhNf6vS9NZN5QW9Zx251qrtlt.jpg\"}\n",
      "{\"id\": 86029 ,\"name\": \"Charlie\"s Angels Collection\",\"poster_path\": \"/jBKUntSuSUfxTXI8XWABpdWmWEt.jpg\",\"backdrop_path\": \"/syWm5FMScW6JHaCM2C9aduCzUtp.jpg\"}\n",
      "{\"id\": 9521 ,\"name\": \"Look Who\"s Talking Collection\",\"poster_path\": \"/ez7hA34uLtOuGIwZvwhlpr53tXh.jpg\",\"backdrop_path\": \"/2jEwMXBICqARNmhFFFDu1IvmJCK.jpg\"}\n",
      "{\"id\": 263866 ,\"name\": \"Nuke \"Em High Collection\",\"poster_path\": \"/eI4x4Sv2C4Et7Be2RCZY7EpNk0H.jpg\",\"backdrop_path\": \"\"}\n",
      "{\"id\": 256297 ,\"name\": \"It\"s Alive Collection\",\"poster_path\": \"\",\"backdrop_path\": \"\"}\n",
      "{\"id\": 10455 ,\"name\": \"Child\"s Play Collection\",\"poster_path\": \"/50aqbDvbOtdlZrje6Qk4ZvKM7dM.jpg\",\"backdrop_path\": \"/AAhYXBVIEl6WgQnzfBsauTIC25.jpg\"}\n",
      "{\"id\": 304 ,\"name\": \"Ocean\"s Collection\",\"poster_path\": \"/rMWeMGBftk6IxNW5mJVH8ZXAvuq.jpg\",\"backdrop_path\": \"/vxmFb03PyjycekffLqXqFibbCzx.jpg\"}\n",
      "{\"id\": 208602 ,\"name\": \"That\"s Entertainment Collection\",\"poster_path\": \"/oL9M7tEllrdtJZlEnXMKEg2gdod.jpg\",\"backdrop_path\": \"\"}\n",
      "{\"id\": 208602 ,\"name\": \"That\"s Entertainment Collection\",\"poster_path\": \"/oL9M7tEllrdtJZlEnXMKEg2gdod.jpg\",\"backdrop_path\": \"\"}\n",
      "{\"id\": 208602 ,\"name\": \"That\"s Entertainment Collection\",\"poster_path\": \"/oL9M7tEllrdtJZlEnXMKEg2gdod.jpg\",\"backdrop_path\": \"\"}\n",
      "{\"id\": 12077 ,\"name\": \"St. Trinian\"s Collection\",\"poster_path\": \"/siu1m6v3zhW0DM6w5qBvvc14eCf.jpg\",\"backdrop_path\": \"/8ZB31bmNPtldnpm5anQlFHAnCe0.jpg\"}\n",
      "{\"id\": 287016 ,\"name\": \"Wong Kar-Wai\"s Informal Collection\",\"poster_path\": \"/fcGKAq9R8fjvXBhVhEds7SRDiWS.jpg\",\"backdrop_path\": \"\"}\n",
      "{\"id\": 8385 ,\"poster_path\": \"/ox6eqFVJRMv2eYFrSUepxIddfjL.jpg\",\"backdrop_path\": \"\"}\n",
      "{\"id\": 287016 ,\"name\": \"Wong Kar-Wai\"s Informal Collection\",\"poster_path\": \"/fcGKAq9R8fjvXBhVhEds7SRDiWS.jpg\",\"backdrop_path\": \"\"}\n",
      "{\"id\": 44979 ,\"name\": \"Big Momma\"s House Collection\",\"poster_path\": \"/nudrKU6mwJOMtZIIyr2fKO1NcDt.jpg\",\"backdrop_path\": \"/G6JKl9hOeErWUw6fO7PAfBOzAn.jpg\"}\n",
      "{\"id\": 8385 ,\"poster_path\": \"/ox6eqFVJRMv2eYFrSUepxIddfjL.jpg\",\"backdrop_path\": \"\"}\n",
      "{\"id\": 261382 ,\"name\": \"Clint Eastwood\"s Iwo Jima Collection\",\"poster_path\": \"/rnRE6JGz9yjYUAbWIHYkGu9B8pj.jpg\",\"backdrop_path\": \"/dIYpFavJ8vNCv9pefEabsUL1pDP.jpg\"}\n",
      "{\"id\": 261382 ,\"name\": \"Clint Eastwood\"s Iwo Jima Collection\",\"poster_path\": \"/rnRE6JGz9yjYUAbWIHYkGu9B8pj.jpg\",\"backdrop_path\": \"/dIYpFavJ8vNCv9pefEabsUL1pDP.jpg\"}\n",
      "{\"id\": 141084 ,\"name\": \"Happily N\"Ever After Collection\",\"poster_path\": \"/aPjLYxKIBys6dlxXMZrDi8VowQK.jpg\",\"backdrop_path\": \"/fw6YfVOmK0tVtaSUGb3GvLzEmvK.jpg\"}\n",
      "{\"id\": 96680 ,\"name\": \"Smokin\" Aces Collection\",\"poster_path\": \"/9Y702mgpXAMQsGJ4jGEH1EqrJaW.jpg\",\"backdrop_path\": \"/1TbMf5bJnYCP9sXhRSVHULPJDbw.jpg\"}\n",
      "{\"id\": 304 ,\"name\": \"Ocean\"s Collection\",\"poster_path\": \"/rMWeMGBftk6IxNW5mJVH8ZXAvuq.jpg\",\"backdrop_path\": \"/vxmFb03PyjycekffLqXqFibbCzx.jpg\"}\n",
      "{\"id\": 436295 ,\"name\": \"Surf\"s Up Collection\",\"poster_path\": \"/7h8x4evTAlErpv7OQwCLpS0KLXm.jpg\",\"backdrop_path\": \"/tkoEC5mLB1lyGiIejCRgulYaeLf.jpg\"}\n",
      "{\"id\": 232844 ,\"name\": \"Nim\"s Island Collection\",\"poster_path\": \"/rRPq295zZflnjp9Y8uhJppJBayQ.jpg\",\"backdrop_path\": \"/iRh0E4dR2m7ZiJQ9u58r8jPV0WU.jpg\"}\n",
      "{\"id\": 12077 ,\"name\": \"St. Trinian\"s Collection\",\"poster_path\": \"/siu1m6v3zhW0DM6w5qBvvc14eCf.jpg\",\"backdrop_path\": \"/8ZB31bmNPtldnpm5anQlFHAnCe0.jpg\"}\n",
      "{\"id\": 477050 ,\"name\": \"Takashi Miike\"s Young Thugs series\",\"poster_path\": \"\",\"backdrop_path\": \"\"}\n",
      "{\"id\": 282246 ,\"name\": \"Mickey\"s Upon a Christmas Collection\",\"poster_path\": \"/q686kA2VPwAAy9n2Fph3I86eyml.jpg\",\"backdrop_path\": \"/vGbr9Zhk191rUd15ABhvyb30o6g.jpg\"}\n",
      "{\"id\": 178117 ,\"name\": \"The Emperor\"s New Groove Collection\",\"poster_path\": \"/gCRRjTXVnLrSQMpWGz1Bgz6Zy5Z.jpg\",\"backdrop_path\": \"/aa0VAu78vDJH9ukK8ORBj1SROfR.jpg\"}\n",
      "{\"id\": 12077 ,\"name\": \"St. Trinian\"s Collection\",\"poster_path\": \"/siu1m6v3zhW0DM6w5qBvvc14eCf.jpg\",\"backdrop_path\": \"/8ZB31bmNPtldnpm5anQlFHAnCe0.jpg\"}\n",
      "{\"id\": 257899 ,\"name\": \"The President\"s Man Collection\",\"poster_path\": \"/9q2vfMb2WUPBs8Z5bo9aoX792nu.jpg\",\"backdrop_path\": \"\"}\n",
      "{\"id\": 166844 ,\"name\": \"Sammy\"s Adventure Collection\",\"poster_path\": \"/caBrlKvlRaOjd2gHbyyqaBDKyR7.jpg\",\"backdrop_path\": \"/iOBB6wAoOCuMM9pwU9C6rhIAbmj.jpg\"}\n",
      "{\"id\": 256297 ,\"name\": \"It\"s Alive Collection\",\"poster_path\": \"\",\"backdrop_path\": \"\"}\n",
      "{\"id\": 256297 ,\"name\": \"It\"s Alive Collection\",\"poster_path\": \"\",\"backdrop_path\": \"\"}\n",
      "{\"id\": 264338 ,\"name\": \"Rosemary\"s Baby Collection\",\"poster_path\": \"/yP9DnKsSGcEuHJktQYotND6dsgJ.jpg\",\"backdrop_path\": \"/36RmiFNEbyfTOF3GG17rOyv4XGD.jpg\"}\n",
      "{\"id\": 44979 ,\"name\": \"Big Momma\"s House Collection\",\"poster_path\": \"/nudrKU6mwJOMtZIIyr2fKO1NcDt.jpg\",\"backdrop_path\": \"/G6JKl9hOeErWUw6fO7PAfBOzAn.jpg\"}\n",
      "{\"id\": 282246 ,\"name\": \"Mickey\"s Upon a Christmas Collection\",\"poster_path\": \"/q686kA2VPwAAy9n2Fph3I86eyml.jpg\",\"backdrop_path\": \"/vGbr9Zhk191rUd15ABhvyb30o6g.jpg\"}\n",
      "{\"id\": 317299 ,\"name\": \"Puss \"n Boots Collection\",\"poster_path\": \"/ggB8PfnbohC6QyxBb7K1tWITdzK.jpg\",\"backdrop_path\": \"\"}\n",
      "{\"id\": 96680 ,\"name\": \"Smokin\" Aces Collection\",\"poster_path\": \"/9Y702mgpXAMQsGJ4jGEH1EqrJaW.jpg\",\"backdrop_path\": \"/1TbMf5bJnYCP9sXhRSVHULPJDbw.jpg\"}\n",
      "{\"id\": 257899 ,\"name\": \"The President\"s Man Collection\",\"poster_path\": \"/9q2vfMb2WUPBs8Z5bo9aoX792nu.jpg\",\"backdrop_path\": \"\"}\n",
      "{\"id\": 123640 ,\"poster_path\": \"/opyglWkC7zqYZCDqcej9TlVnjuB.jpg\",\"backdrop_path\": \"\"}\n",
      "{\"id\": 123640 ,\"poster_path\": \"/opyglWkC7zqYZCDqcej9TlVnjuB.jpg\",\"backdrop_path\": \"\"}\n",
      "{\"id\": 259363 ,\"name\": \"Manuale d\"amore - Collezione\",\"poster_path\": \"/1QyF8MY3hbZweTDKK8s8ZDd3rkO.jpg\",\"backdrop_path\": \"\"}\n",
      "\n",
      "{\"id\": 445332 ,\"name\": \"Takashi Miike\"s Black Society Trilogy\",\"poster_path\": \"/udBNDWp8zc2BqzvYGTLlEAjze9c.jpg\",\"backdrop_path\": \"\"}\n",
      "{\"id\": 476071 ,\"name\": \"The Devil\"s Carnival Collection\",\"poster_path\": \"/gUsaJhlsMk9Agj1o3T3mCauNm8T.jpg\",\"backdrop_path\": \"/zfckKTtolFttNlasNmgL8BCAuqg.jpg\"}\n",
      "{\"id\": 297923 ,\"name\": \"We\"re the Millers Collection\",\"poster_path\": \"/8i2kMT4VfYaK5wH1Q8HyxmdHtFm.jpg\",\"backdrop_path\": \"/1JXiwPCJXIhubAhEuvyBh5UE6rH.jpg\"}\n",
      "{\"id\": 480071 ,\"poster_path\": \"/5h5PlDGSkfH9Rl9hjN6jHgaTgMj.jpg\",\"backdrop_path\": \"/oCC96XCvySuzDCE9vyg82VAki91.jpg\"}\n",
      "{\"id\": 10455 ,\"name\": \"Child\"s Play Collection\",\"poster_path\": \"/50aqbDvbOtdlZrje6Qk4ZvKM7dM.jpg\",\"backdrop_path\": \"/AAhYXBVIEl6WgQnzfBsauTIC25.jpg\"}\n",
      "{\"id\": 279445 ,\"name\": \"China O\"Brien Collection\",\"poster_path\": \"/xjDImequBMIj7PkueGsQ2k3r4In.jpg\",\"backdrop_path\": \"\"}\n",
      "{\"id\": 166844 ,\"name\": \"Sammy\"s Adventure Collection\",\"poster_path\": \"/caBrlKvlRaOjd2gHbyyqaBDKyR7.jpg\",\"backdrop_path\": \"/iOBB6wAoOCuMM9pwU9C6rhIAbmj.jpg\"}\n",
      "{\"id\": 397341 ,\"name\": \"Don\"t Go Breaking My Heart Collection\",\"poster_path\": \"\",\"backdrop_path\": \"\"}\n",
      "{\"id\": 409343 ,\"name\": \"God\"s Not Dead Collection\",\"poster_path\": \"/Pe7qLt83hZbjWGOBJukmDn8Kve.jpg\",\"backdrop_path\": \"/ykT8iDLI2kID4zD0KLWzZjBFQVt.jpg\"}\n",
      "{\"id\": 263193 ,\"name\": \"Charlotte\"s Web Collection\",\"poster_path\": \"/7sg3elvEwetbPtTbMwr9IuegAtD.jpg\",\"backdrop_path\": \"/1FanC71rFOOJukt95FedjAI5iBk.jpg\"}\n",
      "{\"id\": 255478 ,\"name\": \"Cowgirls n\" Angels Collection\",\"poster_path\": \"/p8hwMZbeNe6qQFlblm1DjKrvYOu.jpg\",\"backdrop_path\": \"\"}\n",
      "{\"id\": 255478 ,\"name\": \"Cowgirls n\" Angels Collection\",\"poster_path\": \"/p8hwMZbeNe6qQFlblm1DjKrvYOu.jpg\",\"backdrop_path\": \"\"}\n",
      "{\"id\": 441061 ,\"name\": \"L\"allenatore nel pallone - Collezione\",\"poster_path\": \"\",\"backdrop_path\": \"\"}\n",
      "{\"id\": 141084 ,\"name\": \"Happily N\"Ever After Collection\",\"poster_path\": \"/aPjLYxKIBys6dlxXMZrDi8VowQK.jpg\",\"backdrop_path\": \"/fw6YfVOmK0tVtaSUGb3GvLzEmvK.jpg\"}\n",
      "{\"id\": 232844 ,\"name\": \"Nim\"s Island Collection\",\"poster_path\": \"/rRPq295zZflnjp9Y8uhJppJBayQ.jpg\",\"backdrop_path\": \"/iRh0E4dR2m7ZiJQ9u58r8jPV0WU.jpg\"}\n",
      "{\"id\": 12077 ,\"name\": \"St. Trinian\"s Collection\",\"poster_path\": \"/siu1m6v3zhW0DM6w5qBvvc14eCf.jpg\",\"backdrop_path\": \"/8ZB31bmNPtldnpm5anQlFHAnCe0.jpg\"}\n",
      "{\"id\": 333000 ,\"name\": \"Santa\"s Apprentice\",\"poster_path\": \"/dV4bG6NRwSiyh6hUNditdQtpYgS.jpg\",\"backdrop_path\": \"\"}\n",
      "{\"id\": 165679 ,\"name\": \"Girl\"s on Top Collection\",\"poster_path\": \"/aCmjvFfEMXDxP2dSCTRORXrmg2H.jpg\",\"backdrop_path\": \"/ysyPMmhgZ9Z4heU7vdUBP7L5zCl.jpg\"}\n",
      "{\"id\": 165679 ,\"name\": \"Girl\"s on Top Collection\",\"poster_path\": \"/aCmjvFfEMXDxP2dSCTRORXrmg2H.jpg\",\"backdrop_path\": \"/ysyPMmhgZ9Z4heU7vdUBP7L5zCl.jpg\"}\n",
      "{\"id\": 259363 ,\"name\": \"Manuale d\"amore - Collezione\",\"poster_path\": \"/1QyF8MY3hbZweTDKK8s8ZDd3rkO.jpg\",\"backdrop_path\": \"\"}\n",
      "\n",
      "{\"id\": 108693 ,\"name\": \"National Lampoon\"s Vacation Collection\",\"poster_path\": \"/zvEUkLpDO7xlgabBEA9CCc0cvAt.jpg\",\"backdrop_path\": \"/pBmhj6KkEjlzc3e7jAPkIHgGIrE.jpg\"}\n",
      "{\"id\": 393564 ,\"name\": \"McHale\"s Navy Collection\",\"poster_path\": \"\",\"backdrop_path\": \"\"}\n",
      "{\"id\": 442195 ,\"name\": \"All Hallow\"s Eve Collection\",\"poster_path\": \"/zu8CKEhpOP5OcWViobiUb5Gf2FX.jpg\",\"backdrop_path\": \"/u6ZeIjfYWQdbr71BG5fJz52O6W8.jpg\"}\n",
      "{\"id\": 473971 ,\"name\": \"Daddy\"s Home Collection\",\"poster_path\": \"\",\"backdrop_path\": \"/16w6DLmX0OqGT5qBdMpfpWh4VkU.jpg\"}\n",
      "\n",
      "{\"id\": 263866 ,\"name\": \"Nuke \"Em High Collection\",\"poster_path\": \"/eI4x4Sv2C4Et7Be2RCZY7EpNk0H.jpg\",\"backdrop_path\": \"\"}\n",
      "{\"id\": 263866 ,\"name\": \"Nuke \"Em High Collection\",\"poster_path\": \"/eI4x4Sv2C4Et7Be2RCZY7EpNk0H.jpg\",\"backdrop_path\": \"\"}\n",
      "{\"id\": 179244 ,\"name\": \"Pee-wee\"s Collection\",\"poster_path\": \"/m806SvjQ9b6FPFEzS2ODG6lbXqk.jpg\",\"backdrop_path\": \"/36PCFtfaB4SNHVaeGZbMiMkchaT.jpg\"}\n",
      "{\"id\": 180142 ,\"name\": \"Kenji Misumi\"s Trilogy of the Sword\",\"poster_path\": \"\",\"backdrop_path\": \"\"}\n",
      "{\"id\": 409343 ,\"name\": \"God\"s Not Dead Collection\",\"poster_path\": \"/Pe7qLt83hZbjWGOBJukmDn8Kve.jpg\",\"backdrop_path\": \"/ykT8iDLI2kID4zD0KLWzZjBFQVt.jpg\"}\n",
      "{\"id\": 478244 ,\"name\": \"Spirits\" Homecoming Collection\",\"poster_path\": \"\",\"backdrop_path\": \"\"}\n",
      "{\"id\": 367092 ,\"name\": \"Tada\"s Do-It-All Collection\",\"poster_path\": \"\",\"backdrop_path\": \"\"}\n",
      "{\"id\": 441061 ,\"name\": \"L\"allenatore nel pallone - Collezione\",\"poster_path\": \"\",\"backdrop_path\": \"\"}\n"
     ]
    }
   ],
   "source": [
    "movies_meta['belongs_to_collection'] = movies_meta['belongs_to_collection'].apply(str_to_json_v3)"
   ]
  },
  {
   "cell_type": "code",
   "execution_count": null,
   "id": "da6c2013",
   "metadata": {},
   "outputs": [],
   "source": []
  },
  {
   "cell_type": "code",
   "execution_count": 76,
   "id": "099eed07",
   "metadata": {},
   "outputs": [],
   "source": [
    "movies_meta['belongs_to_collection'][0] "
   ]
  },
  {
   "cell_type": "code",
   "execution_count": 77,
   "id": "552b1586",
   "metadata": {},
   "outputs": [
    {
     "data": {
      "text/plain": [
       "NoneType"
      ]
     },
     "execution_count": 77,
     "metadata": {},
     "output_type": "execute_result"
    }
   ],
   "source": [
    "temp = (movies_meta['belongs_to_collection'][0])\n",
    "type(temp)"
   ]
  },
  {
   "cell_type": "code",
   "execution_count": 46,
   "id": "ca643deb",
   "metadata": {},
   "outputs": [
    {
     "ename": "ValueError",
     "evalue": "dictionary update sequence element #0 has length 1; 2 is required",
     "output_type": "error",
     "traceback": [
      "\u001b[1;31m---------------------------------------------------------------------------\u001b[0m",
      "\u001b[1;31mValueError\u001b[0m                                Traceback (most recent call last)",
      "\u001b[1;32m~\\AppData\\Local\\Temp/ipykernel_2968/3164900349.py\u001b[0m in \u001b[0;36m<module>\u001b[1;34m\u001b[0m\n\u001b[1;32m----> 1\u001b[1;33m \u001b[0mtemp\u001b[0m \u001b[1;33m=\u001b[0m \u001b[0mdict\u001b[0m\u001b[1;33m(\u001b[0m\u001b[0mtemp\u001b[0m\u001b[1;33m)\u001b[0m\u001b[1;33m\u001b[0m\u001b[1;33m\u001b[0m\u001b[0m\n\u001b[0m",
      "\u001b[1;31mValueError\u001b[0m: dictionary update sequence element #0 has length 1; 2 is required"
     ]
    }
   ],
   "source": [
    "temp = dict(temp)"
   ]
  },
  {
   "cell_type": "markdown",
   "id": "bf0f45c2",
   "metadata": {},
   "source": [
    "### links.csv"
   ]
  },
  {
   "cell_type": "code",
   "execution_count": 17,
   "id": "e4e73b6c",
   "metadata": {},
   "outputs": [],
   "source": [
    "links_df = pd.read_csv(os.path.join(root, 'links.csv'))"
   ]
  },
  {
   "cell_type": "code",
   "execution_count": 18,
   "id": "ef56aeaf",
   "metadata": {},
   "outputs": [
    {
     "data": {
      "text/html": [
       "<div>\n",
       "<style scoped>\n",
       "    .dataframe tbody tr th:only-of-type {\n",
       "        vertical-align: middle;\n",
       "    }\n",
       "\n",
       "    .dataframe tbody tr th {\n",
       "        vertical-align: top;\n",
       "    }\n",
       "\n",
       "    .dataframe thead th {\n",
       "        text-align: right;\n",
       "    }\n",
       "</style>\n",
       "<table border=\"1\" class=\"dataframe\">\n",
       "  <thead>\n",
       "    <tr style=\"text-align: right;\">\n",
       "      <th></th>\n",
       "      <th>movieId</th>\n",
       "      <th>imdbId</th>\n",
       "      <th>tmdbId</th>\n",
       "    </tr>\n",
       "  </thead>\n",
       "  <tbody>\n",
       "    <tr>\n",
       "      <th>0</th>\n",
       "      <td>1</td>\n",
       "      <td>114709</td>\n",
       "      <td>862.0</td>\n",
       "    </tr>\n",
       "    <tr>\n",
       "      <th>1</th>\n",
       "      <td>2</td>\n",
       "      <td>113497</td>\n",
       "      <td>8844.0</td>\n",
       "    </tr>\n",
       "    <tr>\n",
       "      <th>2</th>\n",
       "      <td>3</td>\n",
       "      <td>113228</td>\n",
       "      <td>15602.0</td>\n",
       "    </tr>\n",
       "    <tr>\n",
       "      <th>3</th>\n",
       "      <td>4</td>\n",
       "      <td>114885</td>\n",
       "      <td>31357.0</td>\n",
       "    </tr>\n",
       "    <tr>\n",
       "      <th>4</th>\n",
       "      <td>5</td>\n",
       "      <td>113041</td>\n",
       "      <td>11862.0</td>\n",
       "    </tr>\n",
       "    <tr>\n",
       "      <th>...</th>\n",
       "      <td>...</td>\n",
       "      <td>...</td>\n",
       "      <td>...</td>\n",
       "    </tr>\n",
       "    <tr>\n",
       "      <th>45838</th>\n",
       "      <td>176269</td>\n",
       "      <td>6209470</td>\n",
       "      <td>439050.0</td>\n",
       "    </tr>\n",
       "    <tr>\n",
       "      <th>45839</th>\n",
       "      <td>176271</td>\n",
       "      <td>2028550</td>\n",
       "      <td>111109.0</td>\n",
       "    </tr>\n",
       "    <tr>\n",
       "      <th>45840</th>\n",
       "      <td>176273</td>\n",
       "      <td>303758</td>\n",
       "      <td>67758.0</td>\n",
       "    </tr>\n",
       "    <tr>\n",
       "      <th>45841</th>\n",
       "      <td>176275</td>\n",
       "      <td>8536</td>\n",
       "      <td>227506.0</td>\n",
       "    </tr>\n",
       "    <tr>\n",
       "      <th>45842</th>\n",
       "      <td>176279</td>\n",
       "      <td>6980792</td>\n",
       "      <td>461257.0</td>\n",
       "    </tr>\n",
       "  </tbody>\n",
       "</table>\n",
       "<p>45843 rows × 3 columns</p>\n",
       "</div>"
      ],
      "text/plain": [
       "       movieId   imdbId    tmdbId\n",
       "0            1   114709     862.0\n",
       "1            2   113497    8844.0\n",
       "2            3   113228   15602.0\n",
       "3            4   114885   31357.0\n",
       "4            5   113041   11862.0\n",
       "...        ...      ...       ...\n",
       "45838   176269  6209470  439050.0\n",
       "45839   176271  2028550  111109.0\n",
       "45840   176273   303758   67758.0\n",
       "45841   176275     8536  227506.0\n",
       "45842   176279  6980792  461257.0\n",
       "\n",
       "[45843 rows x 3 columns]"
      ]
     },
     "execution_count": 18,
     "metadata": {},
     "output_type": "execute_result"
    }
   ],
   "source": [
    "links_df"
   ]
  },
  {
   "cell_type": "code",
   "execution_count": null,
   "id": "5a661612",
   "metadata": {},
   "outputs": [],
   "source": []
  },
  {
   "cell_type": "code",
   "execution_count": null,
   "id": "930eda00",
   "metadata": {},
   "outputs": [],
   "source": []
  }
 ],
 "metadata": {
  "kernelspec": {
   "display_name": "Python 3 (ipykernel)",
   "language": "python",
   "name": "python3"
  },
  "language_info": {
   "codemirror_mode": {
    "name": "ipython",
    "version": 3
   },
   "file_extension": ".py",
   "mimetype": "text/x-python",
   "name": "python",
   "nbconvert_exporter": "python",
   "pygments_lexer": "ipython3",
   "version": "3.9.7"
  },
  "vscode": {
   "interpreter": {
    "hash": "edaf57bb0f3788bc3306b545650b7d3cbc470541957dc9a21e2158b40ad2c2af"
   }
  }
 },
 "nbformat": 4,
 "nbformat_minor": 5
}
