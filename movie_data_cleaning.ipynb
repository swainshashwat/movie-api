{
 "cells": [
  {
   "cell_type": "code",
   "execution_count": 9,
   "id": "92bdd396",
   "metadata": {},
   "outputs": [],
   "source": [
    "import pandas as pd\n",
    "import os\n",
    "import json"
   ]
  },
  {
   "cell_type": "code",
   "execution_count": 2,
   "id": "64bb13bc",
   "metadata": {},
   "outputs": [],
   "source": [
    "root = \"movie_dataset/\""
   ]
  },
  {
   "cell_type": "code",
   "execution_count": 4,
   "id": "4e912ae4",
   "metadata": {},
   "outputs": [
    {
     "data": {
      "text/plain": [
       "['credits.csv',\n",
       " 'keywords.csv',\n",
       " 'links.csv',\n",
       " 'links_small.csv',\n",
       " 'movies_metadata.csv',\n",
       " 'ratings.csv',\n",
       " 'ratings_small.csv']"
      ]
     },
     "execution_count": 4,
     "metadata": {},
     "output_type": "execute_result"
    }
   ],
   "source": [
    "os.listdir(root)"
   ]
  },
  {
   "cell_type": "code",
   "execution_count": 5,
   "id": "acb10566",
   "metadata": {},
   "outputs": [],
   "source": [
    "credits = pd.read_csv(root+'credits.csv')"
   ]
  },
  {
   "cell_type": "code",
   "execution_count": 6,
   "id": "60feb298",
   "metadata": {},
   "outputs": [
    {
     "data": {
      "text/html": [
       "<div>\n",
       "<style scoped>\n",
       "    .dataframe tbody tr th:only-of-type {\n",
       "        vertical-align: middle;\n",
       "    }\n",
       "\n",
       "    .dataframe tbody tr th {\n",
       "        vertical-align: top;\n",
       "    }\n",
       "\n",
       "    .dataframe thead th {\n",
       "        text-align: right;\n",
       "    }\n",
       "</style>\n",
       "<table border=\"1\" class=\"dataframe\">\n",
       "  <thead>\n",
       "    <tr style=\"text-align: right;\">\n",
       "      <th></th>\n",
       "      <th>cast</th>\n",
       "      <th>crew</th>\n",
       "      <th>id</th>\n",
       "    </tr>\n",
       "  </thead>\n",
       "  <tbody>\n",
       "    <tr>\n",
       "      <th>0</th>\n",
       "      <td>[{'cast_id': 14, 'character': 'Woody (voice)',...</td>\n",
       "      <td>[{'credit_id': '52fe4284c3a36847f8024f49', 'de...</td>\n",
       "      <td>862</td>\n",
       "    </tr>\n",
       "    <tr>\n",
       "      <th>1</th>\n",
       "      <td>[{'cast_id': 1, 'character': 'Alan Parrish', '...</td>\n",
       "      <td>[{'credit_id': '52fe44bfc3a36847f80a7cd1', 'de...</td>\n",
       "      <td>8844</td>\n",
       "    </tr>\n",
       "    <tr>\n",
       "      <th>2</th>\n",
       "      <td>[{'cast_id': 2, 'character': 'Max Goldman', 'c...</td>\n",
       "      <td>[{'credit_id': '52fe466a9251416c75077a89', 'de...</td>\n",
       "      <td>15602</td>\n",
       "    </tr>\n",
       "    <tr>\n",
       "      <th>3</th>\n",
       "      <td>[{'cast_id': 1, 'character': \"Savannah 'Vannah...</td>\n",
       "      <td>[{'credit_id': '52fe44779251416c91011acb', 'de...</td>\n",
       "      <td>31357</td>\n",
       "    </tr>\n",
       "    <tr>\n",
       "      <th>4</th>\n",
       "      <td>[{'cast_id': 1, 'character': 'George Banks', '...</td>\n",
       "      <td>[{'credit_id': '52fe44959251416c75039ed7', 'de...</td>\n",
       "      <td>11862</td>\n",
       "    </tr>\n",
       "  </tbody>\n",
       "</table>\n",
       "</div>"
      ],
      "text/plain": [
       "                                                cast  \\\n",
       "0  [{'cast_id': 14, 'character': 'Woody (voice)',...   \n",
       "1  [{'cast_id': 1, 'character': 'Alan Parrish', '...   \n",
       "2  [{'cast_id': 2, 'character': 'Max Goldman', 'c...   \n",
       "3  [{'cast_id': 1, 'character': \"Savannah 'Vannah...   \n",
       "4  [{'cast_id': 1, 'character': 'George Banks', '...   \n",
       "\n",
       "                                                crew     id  \n",
       "0  [{'credit_id': '52fe4284c3a36847f8024f49', 'de...    862  \n",
       "1  [{'credit_id': '52fe44bfc3a36847f80a7cd1', 'de...   8844  \n",
       "2  [{'credit_id': '52fe466a9251416c75077a89', 'de...  15602  \n",
       "3  [{'credit_id': '52fe44779251416c91011acb', 'de...  31357  \n",
       "4  [{'credit_id': '52fe44959251416c75039ed7', 'de...  11862  "
      ]
     },
     "execution_count": 6,
     "metadata": {},
     "output_type": "execute_result"
    }
   ],
   "source": [
    "credits.head()"
   ]
  },
  {
   "cell_type": "code",
   "execution_count": 54,
   "id": "013e5481",
   "metadata": {},
   "outputs": [
    {
     "data": {
      "text/plain": [
       "Index(['cast', 'crew', 'id'], dtype='object')"
      ]
     },
     "execution_count": 54,
     "metadata": {},
     "output_type": "execute_result"
    }
   ],
   "source": [
    "credits.shape\n",
    "credits.columns"
   ]
  },
  {
   "cell_type": "code",
   "execution_count": 56,
   "id": "7e8ce53e",
   "metadata": {},
   "outputs": [],
   "source": [
    "def str_to_json(df,col,row):\n",
    "    df00= df[col][row].replace(\"\\'\",\"\\\"\")\n",
    "    df00 = df00.replace(\"None\",\"\\\"\\\"\")\n",
    "    df00 = json.loads(df00)\n",
    "    return df00\n"
   ]
  },
  {
   "cell_type": "code",
   "execution_count": 59,
   "id": "ec2f3182",
   "metadata": {},
   "outputs": [
    {
     "name": "stdout",
     "output_type": "stream",
     "text": [
      "0\n",
      "cast\n",
      "crew\n"
     ]
    },
    {
     "ename": "JSONDecodeError",
     "evalue": "Expecting ',' delimiter: line 1 column 14679 (char 14678)",
     "output_type": "error",
     "traceback": [
      "\u001b[1;31m---------------------------------------------------------------------------\u001b[0m",
      "\u001b[1;31mJSONDecodeError\u001b[0m                           Traceback (most recent call last)",
      "\u001b[1;32m~\\AppData\\Local\\Temp/ipykernel_17576/3750295533.py\u001b[0m in \u001b[0;36m<module>\u001b[1;34m\u001b[0m\n\u001b[0;32m      8\u001b[0m             \u001b[0mtmp_dict\u001b[0m\u001b[1;33m[\u001b[0m\u001b[1;34m'id'\u001b[0m\u001b[1;33m]\u001b[0m \u001b[1;33m=\u001b[0m \u001b[0mcredits\u001b[0m\u001b[1;33m[\u001b[0m\u001b[0my\u001b[0m\u001b[1;33m]\u001b[0m\u001b[1;33m[\u001b[0m\u001b[0mx\u001b[0m\u001b[1;33m]\u001b[0m\u001b[1;33m\u001b[0m\u001b[1;33m\u001b[0m\u001b[0m\n\u001b[0;32m      9\u001b[0m         \u001b[1;32melse\u001b[0m\u001b[1;33m:\u001b[0m\u001b[1;33m\u001b[0m\u001b[1;33m\u001b[0m\u001b[0m\n\u001b[1;32m---> 10\u001b[1;33m             \u001b[0mtmp_dict\u001b[0m\u001b[1;33m[\u001b[0m\u001b[0my\u001b[0m\u001b[1;33m]\u001b[0m \u001b[1;33m=\u001b[0m \u001b[0mstr_to_json\u001b[0m\u001b[1;33m(\u001b[0m\u001b[0mcredits\u001b[0m\u001b[1;33m,\u001b[0m\u001b[0my\u001b[0m\u001b[1;33m,\u001b[0m\u001b[0mx\u001b[0m\u001b[1;33m)\u001b[0m\u001b[1;33m\u001b[0m\u001b[1;33m\u001b[0m\u001b[0m\n\u001b[0m\u001b[0;32m     11\u001b[0m \u001b[1;33m\u001b[0m\u001b[0m\n\u001b[0;32m     12\u001b[0m     \u001b[0mcredits_json\u001b[0m\u001b[1;33m.\u001b[0m\u001b[0mappend\u001b[0m\u001b[1;33m(\u001b[0m\u001b[0mtmp_dict\u001b[0m\u001b[1;33m)\u001b[0m\u001b[1;33m\u001b[0m\u001b[1;33m\u001b[0m\u001b[0m\n",
      "\u001b[1;32m~\\AppData\\Local\\Temp/ipykernel_17576/196412244.py\u001b[0m in \u001b[0;36mstr_to_json\u001b[1;34m(df, col, row)\u001b[0m\n\u001b[0;32m      2\u001b[0m     \u001b[0mdf00\u001b[0m\u001b[1;33m=\u001b[0m \u001b[0mdf\u001b[0m\u001b[1;33m[\u001b[0m\u001b[0mcol\u001b[0m\u001b[1;33m]\u001b[0m\u001b[1;33m[\u001b[0m\u001b[0mrow\u001b[0m\u001b[1;33m]\u001b[0m\u001b[1;33m.\u001b[0m\u001b[0mreplace\u001b[0m\u001b[1;33m(\u001b[0m\u001b[1;34m\"\\'\"\u001b[0m\u001b[1;33m,\u001b[0m\u001b[1;34m\"\\\"\"\u001b[0m\u001b[1;33m)\u001b[0m\u001b[1;33m\u001b[0m\u001b[1;33m\u001b[0m\u001b[0m\n\u001b[0;32m      3\u001b[0m     \u001b[0mdf00\u001b[0m \u001b[1;33m=\u001b[0m \u001b[0mdf00\u001b[0m\u001b[1;33m.\u001b[0m\u001b[0mreplace\u001b[0m\u001b[1;33m(\u001b[0m\u001b[1;34m\"None\"\u001b[0m\u001b[1;33m,\u001b[0m\u001b[1;34m\"\\\"\\\"\"\u001b[0m\u001b[1;33m)\u001b[0m\u001b[1;33m\u001b[0m\u001b[1;33m\u001b[0m\u001b[0m\n\u001b[1;32m----> 4\u001b[1;33m     \u001b[0mdf00\u001b[0m \u001b[1;33m=\u001b[0m \u001b[0mjson\u001b[0m\u001b[1;33m.\u001b[0m\u001b[0mloads\u001b[0m\u001b[1;33m(\u001b[0m\u001b[0mdf00\u001b[0m\u001b[1;33m)\u001b[0m\u001b[1;33m\u001b[0m\u001b[1;33m\u001b[0m\u001b[0m\n\u001b[0m\u001b[0;32m      5\u001b[0m     \u001b[1;32mreturn\u001b[0m \u001b[0mdf00\u001b[0m\u001b[1;33m\u001b[0m\u001b[1;33m\u001b[0m\u001b[0m\n",
      "\u001b[1;32m~\\anaconda3\\lib\\json\\__init__.py\u001b[0m in \u001b[0;36mloads\u001b[1;34m(s, cls, object_hook, parse_float, parse_int, parse_constant, object_pairs_hook, **kw)\u001b[0m\n\u001b[0;32m    344\u001b[0m             \u001b[0mparse_int\u001b[0m \u001b[1;32mis\u001b[0m \u001b[1;32mNone\u001b[0m \u001b[1;32mand\u001b[0m \u001b[0mparse_float\u001b[0m \u001b[1;32mis\u001b[0m \u001b[1;32mNone\u001b[0m \u001b[1;32mand\u001b[0m\u001b[1;33m\u001b[0m\u001b[1;33m\u001b[0m\u001b[0m\n\u001b[0;32m    345\u001b[0m             parse_constant is None and object_pairs_hook is None and not kw):\n\u001b[1;32m--> 346\u001b[1;33m         \u001b[1;32mreturn\u001b[0m \u001b[0m_default_decoder\u001b[0m\u001b[1;33m.\u001b[0m\u001b[0mdecode\u001b[0m\u001b[1;33m(\u001b[0m\u001b[0ms\u001b[0m\u001b[1;33m)\u001b[0m\u001b[1;33m\u001b[0m\u001b[1;33m\u001b[0m\u001b[0m\n\u001b[0m\u001b[0;32m    347\u001b[0m     \u001b[1;32mif\u001b[0m \u001b[0mcls\u001b[0m \u001b[1;32mis\u001b[0m \u001b[1;32mNone\u001b[0m\u001b[1;33m:\u001b[0m\u001b[1;33m\u001b[0m\u001b[1;33m\u001b[0m\u001b[0m\n\u001b[0;32m    348\u001b[0m         \u001b[0mcls\u001b[0m \u001b[1;33m=\u001b[0m \u001b[0mJSONDecoder\u001b[0m\u001b[1;33m\u001b[0m\u001b[1;33m\u001b[0m\u001b[0m\n",
      "\u001b[1;32m~\\anaconda3\\lib\\json\\decoder.py\u001b[0m in \u001b[0;36mdecode\u001b[1;34m(self, s, _w)\u001b[0m\n\u001b[0;32m    335\u001b[0m \u001b[1;33m\u001b[0m\u001b[0m\n\u001b[0;32m    336\u001b[0m         \"\"\"\n\u001b[1;32m--> 337\u001b[1;33m         \u001b[0mobj\u001b[0m\u001b[1;33m,\u001b[0m \u001b[0mend\u001b[0m \u001b[1;33m=\u001b[0m \u001b[0mself\u001b[0m\u001b[1;33m.\u001b[0m\u001b[0mraw_decode\u001b[0m\u001b[1;33m(\u001b[0m\u001b[0ms\u001b[0m\u001b[1;33m,\u001b[0m \u001b[0midx\u001b[0m\u001b[1;33m=\u001b[0m\u001b[0m_w\u001b[0m\u001b[1;33m(\u001b[0m\u001b[0ms\u001b[0m\u001b[1;33m,\u001b[0m \u001b[1;36m0\u001b[0m\u001b[1;33m)\u001b[0m\u001b[1;33m.\u001b[0m\u001b[0mend\u001b[0m\u001b[1;33m(\u001b[0m\u001b[1;33m)\u001b[0m\u001b[1;33m)\u001b[0m\u001b[1;33m\u001b[0m\u001b[1;33m\u001b[0m\u001b[0m\n\u001b[0m\u001b[0;32m    338\u001b[0m         \u001b[0mend\u001b[0m \u001b[1;33m=\u001b[0m \u001b[0m_w\u001b[0m\u001b[1;33m(\u001b[0m\u001b[0ms\u001b[0m\u001b[1;33m,\u001b[0m \u001b[0mend\u001b[0m\u001b[1;33m)\u001b[0m\u001b[1;33m.\u001b[0m\u001b[0mend\u001b[0m\u001b[1;33m(\u001b[0m\u001b[1;33m)\u001b[0m\u001b[1;33m\u001b[0m\u001b[1;33m\u001b[0m\u001b[0m\n\u001b[0;32m    339\u001b[0m         \u001b[1;32mif\u001b[0m \u001b[0mend\u001b[0m \u001b[1;33m!=\u001b[0m \u001b[0mlen\u001b[0m\u001b[1;33m(\u001b[0m\u001b[0ms\u001b[0m\u001b[1;33m)\u001b[0m\u001b[1;33m:\u001b[0m\u001b[1;33m\u001b[0m\u001b[1;33m\u001b[0m\u001b[0m\n",
      "\u001b[1;32m~\\anaconda3\\lib\\json\\decoder.py\u001b[0m in \u001b[0;36mraw_decode\u001b[1;34m(self, s, idx)\u001b[0m\n\u001b[0;32m    351\u001b[0m         \"\"\"\n\u001b[0;32m    352\u001b[0m         \u001b[1;32mtry\u001b[0m\u001b[1;33m:\u001b[0m\u001b[1;33m\u001b[0m\u001b[1;33m\u001b[0m\u001b[0m\n\u001b[1;32m--> 353\u001b[1;33m             \u001b[0mobj\u001b[0m\u001b[1;33m,\u001b[0m \u001b[0mend\u001b[0m \u001b[1;33m=\u001b[0m \u001b[0mself\u001b[0m\u001b[1;33m.\u001b[0m\u001b[0mscan_once\u001b[0m\u001b[1;33m(\u001b[0m\u001b[0ms\u001b[0m\u001b[1;33m,\u001b[0m \u001b[0midx\u001b[0m\u001b[1;33m)\u001b[0m\u001b[1;33m\u001b[0m\u001b[1;33m\u001b[0m\u001b[0m\n\u001b[0m\u001b[0;32m    354\u001b[0m         \u001b[1;32mexcept\u001b[0m \u001b[0mStopIteration\u001b[0m \u001b[1;32mas\u001b[0m \u001b[0merr\u001b[0m\u001b[1;33m:\u001b[0m\u001b[1;33m\u001b[0m\u001b[1;33m\u001b[0m\u001b[0m\n\u001b[0;32m    355\u001b[0m             \u001b[1;32mraise\u001b[0m \u001b[0mJSONDecodeError\u001b[0m\u001b[1;33m(\u001b[0m\u001b[1;34m\"Expecting value\"\u001b[0m\u001b[1;33m,\u001b[0m \u001b[0ms\u001b[0m\u001b[1;33m,\u001b[0m \u001b[0merr\u001b[0m\u001b[1;33m.\u001b[0m\u001b[0mvalue\u001b[0m\u001b[1;33m)\u001b[0m \u001b[1;32mfrom\u001b[0m \u001b[1;32mNone\u001b[0m\u001b[1;33m\u001b[0m\u001b[1;33m\u001b[0m\u001b[0m\n",
      "\u001b[1;31mJSONDecodeError\u001b[0m: Expecting ',' delimiter: line 1 column 14679 (char 14678)"
     ]
    }
   ],
   "source": [
    "credits_json = []\n",
    "for x in range(5):\n",
    "    print(x)\n",
    "    tmp_dict = {}\n",
    "    for y in credits.columns:\n",
    "        print(y)\n",
    "        if y  == 'id':\n",
    "            tmp_dict['id'] = credits[y][x]\n",
    "        else:\n",
    "            tmp_dict[y] = str_to_json(credits,y,x)\n",
    "            \n",
    "    credits_json.append(tmp_dict)\n",
    "    "
   ]
  },
  {
   "cell_type": "code",
   "execution_count": 75,
   "id": "76b5bdcc",
   "metadata": {
    "scrolled": true
   },
   "outputs": [
    {
     "data": {
      "text/plain": [
       "' \"Kelly O\"Connell\", \"profile_path\": \"\"}, {\"credit_id\": \"58921411c3a3686b0a004f70\", \"department\": \"Art\", \"gender\": 0, \"id\": 1443471, \"job\": \"Set Dresser\", \"name\": \"Sonoko Konishi\", \"profile_path\": \"\"}, {\"credit_id\": \"58921434c3a368096a00956e\", \"department\": \"Art\", \"gender\": 0, \"id\": 1748711, \"job\": \"Set Dresser\", \"name\": \"Ann M. Rockwell\", \"profile_path\": \"\"}, {\"credit_id\": \"5892144ac3a36809680090de\", \"department\": \"Editing\", \"gender\": 0, \"id\": 1748712, \"job\": \"Editorial Manager\", \"name\": \"Julie M. McDonald\", \"profile_path\": \"\"}, {\"credit_id\": \"58921479c3a368096800910f\", \"department\": \"Editing\", \"gender\": 0, \"id\": 1589729, \"job\": \"Assistant Editor\", \"name\": \"Robin Lee\", \"profile_path\": \"\"}, {\"credit_id\": \"5892148b9251412dd10099cc\", \"department\": \"Editing\", \"gender\": 0, \"id\": 1748716, \"job\": \"Assistant Editor\", \"name\": \"Tom Freeman\", \"profile_path\": \"\"}, {\"credit_id\": \"589214959251412dcb009b1f\", \"department\": \"Editing\", \"gender\": 0, \"id\": 1748717, \"job\": \"Assistant Editor\", \"name\": \"Ada Cochavi\", \"profile_path\": \"\"}, {\"credit_id\": \"5892149ec3a3686348004798\", \"department\": \"Editing\", \"gender\": 0, \"id\": 1336438, \"job\": \"Assistant Editor\", \"name\": \"Dana Mulligan\", \"profile_path\": \"\"}, {\"credit_id\": \"589214adc3a368096a0095db\", \"department\": \"Editing\", \"gender\": 0, \"id\": 1748718, \"job\": \"Editorial Coordinator\", \"name\": \"Deirdre Morrison\", \"profile_path\": \"\"}, {\"credit_id\": \"589214c7c3a368097700952b\", \"department\": \"Production\", \"gender\": 0, \"id\": 1748719, \"job\": \"Production Coordinator\", \"name\": \"Lori Lombardo\", \"profile_path\": \"\"}, {\"credit_id\": \"589214cec3a368096a009603\", \"department\": \"Production\", \"gender\": 0, \"id\": 1748720, \"job\": \"Production Coordinator\", \"name\": \"Ellen Devine\", \"profile_path\": \"\"}, {\"credit_id\": \"589214e39251412dc8009904\", \"department\": \"Crew\", \"gender\": 0, \"id\": 1468014, \"job\": \"Unit Publicist\", \"name\": \"Lauren Beth Strogoff\", \"profile_path\": \"\"}, {\"credit_id\": \"58921544c3a3686b0a00507d\", \"department\": \"Sound\", \"gender\": 2, \"id\": 2216, \"job\": \"Sound Re-Recording Mixer\", \"name\": \"Gary Rydstrom\", \"profile_path\": \"/jZpr1nVfO7lldWI0YtmP1FGw7Rj.jpg\"}, {\"credit_id\": \"5892154c9251412dd1009a56\", \"department\": \"Sound\", \"gender\": 0, \"id\": 1425978, \"job\": \"Sound Re-Recording Mixer\", \"name\": \"Gary Summers\", \"profile_path\": \"\"}, {\"credit_id\": \"58921555c3a36809680091bd\", \"department\": \"Sound\", \"gender\": 2, \"id\": 8276, \"job\": \"Supervising Sound Editor\", \"name\": \"Tim Holland\", \"profile_path\": \"\"}, {\"credit_id\": \"589215c39251412dcb009c12\", \"department\": \"Sound\", \"gender\": 0, \"id\": 7069, \"job\": \"Sound Effects Editor\", \"name\": \"Pat Jackson\", \"profile_path\": \"\"}, {\"credit_id\": \"58921698c3a368096a009788\", \"department\": \"Crew\", \"gender\": 2, \"id\": 15894, \"job\": \"Sound Design Assistant\", \"name\": \"Tom Myers\", \"profile_path\": \"\"}, {\"credit_id\": \"589216a89251412dc2009ca4\", \"department\": \"Sound\", \"gender\": 0, \"id\": 1414177, \"job\": \"Assistant Sound Editor\", \"name\": \"J.R. Grubbs\", \"profile_path\": \"\"}, {\"credit_id\": \"589216c19251412dc2009cb9\", \"department\": \"Sound\", \"gender\": 1, \"id\": 1748724, \"job\": \"Assistant Sound Editor\", \"name\": \"Susan Sanford\", \"profile_path\": \"\"}, {\"credit_id\": \"589216ccc3a3680973009274\", \"department\": \"Sound\", \"gender\": 0, \"id\": 1748725, \"job\": \"Assistant Sound Editor\", \"name\": \"Susan Popovic\", \"profile_path\": \"\"}, {\"credit_id\": \"589216d79251412dc8009aa0\", \"department\": \"Sound\", \"gender\": 0, \"id\": 8067, \"job\": \"Assistant Sound Editor\", \"name\": \"Dan Engstrom\", \"profile_path\": \"\"}, {\"credit_id\": \"589216e49251412dcd009a4f\", \"department\": \"Production\", \"gender\": 1, \"id\": 7902, \"job\": \"Casting Consultant\", \"name\": \"Ruth Lambert\", \"profile_path\": \"\"}, {\"credit_id\": \"589216f39251412dc2009cf3\", \"department\": \"Production\", \"gender\": 0, \"id\": 84493, \"job\": \"ADR Voice Casting\", \"name\": \"Mickie McGowan\", \"profile_path\": \"/k7TjJBfINsg8vLQxJwos6XObAD6.jpg\"}]'"
      ]
     },
     "execution_count": 75,
     "metadata": {},
     "output_type": "execute_result"
    }
   ],
   "source": [
    "crew00= credits['crew'][0].replace(\"\\\\\",\"\").replace(\"\\'\",\"\\\"\").replace(\"None\",\"\\\"\\\"\")\n",
    "crew00[14668:]"
   ]
  },
  {
   "cell_type": "code",
   "execution_count": null,
   "id": "b77dbecf",
   "metadata": {},
   "outputs": [],
   "source": []
  }
 ],
 "metadata": {
  "kernelspec": {
   "display_name": "Python 3 (ipykernel)",
   "language": "python",
   "name": "python3"
  },
  "language_info": {
   "codemirror_mode": {
    "name": "ipython",
    "version": 3
   },
   "file_extension": ".py",
   "mimetype": "text/x-python",
   "name": "python",
   "nbconvert_exporter": "python",
   "pygments_lexer": "ipython3",
   "version": "3.9.7"
  }
 },
 "nbformat": 4,
 "nbformat_minor": 5
}
